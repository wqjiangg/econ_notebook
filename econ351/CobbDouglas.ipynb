{
 "cells": [
  {
   "cell_type": "code",
   "execution_count": null,
   "metadata": {},
   "outputs": [],
   "source": [
    "%matplotlib qt\n",
    "import numpy as np\n",
    "from mpl_toolkits import mplot3d\n",
    "import numpy as np\n",
    "import matplotlib.pyplot as plt"
   ]
  },
  {
   "cell_type": "code",
   "execution_count": 33,
   "metadata": {},
   "outputs": [],
   "source": [
    "def cobb_douglas(L, K):\n",
    "    return 20 * (L**0.4)*(K**0.5) #np.sin(np.sqrt(x ** 2 + y ** 2))\n",
    "def linear_iso(L, K):\n",
    "    return (15*L + 3*K)\n",
    "\n",
    "def my3dplot(L, K, q):\n",
    "    fig = plt.figure()\n",
    "    ax = plt.axes(projection='3d')\n",
    "    ax.contour3D(L, K, q, 20, cmap='binary')\n",
    "    ax.set_xlabel('L')\n",
    "    ax.set_ylabel('K')\n",
    "    ax.set_zlabel('q');\n",
    "    ax.view_init(60, 0)\n",
    "    fig\n",
    "\n",
    "def isoquant_plot(L, K, q):\n",
    "    fig,ax = plt.subplots()\n",
    "    C=ax.contour(L,K,q)\n",
    "    ax.clabel(C)\n",
    "    ax.set_xlabel('L')\n",
    "    ax.set_ylabel('K')\n",
    "\n",
    "#q = linear_iso(L, K)"
   ]
  },
  {
   "cell_type": "code",
   "execution_count": 35,
   "metadata": {},
   "outputs": [],
   "source": [
    "l = np.linspace(0, 20, 10)\n",
    "k = np.linspace(0, 20, 10)\n",
    "\n",
    "L, K = np.meshgrid(l, k)\n",
    "q = cobb_douglas(L, K)\n",
    "\n",
    "isoquant_plot(L, K, q)\n",
    "my3dplot(L, K, q)"
   ]
  },
  {
   "cell_type": "code",
   "execution_count": null,
   "metadata": {},
   "outputs": [],
   "source": []
  },
  {
   "cell_type": "code",
   "execution_count": null,
   "metadata": {},
   "outputs": [],
   "source": []
  }
 ],
 "metadata": {
  "kernelspec": {
   "display_name": "Python 3",
   "language": "python",
   "name": "python3"
  },
  "language_info": {
   "codemirror_mode": {
    "name": "ipython",
    "version": 3
   },
   "file_extension": ".py",
   "mimetype": "text/x-python",
   "name": "python",
   "nbconvert_exporter": "python",
   "pygments_lexer": "ipython3",
   "version": "3.8.5"
  }
 },
 "nbformat": 4,
 "nbformat_minor": 4
}
